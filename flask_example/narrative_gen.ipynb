{
 "cells": [
  {
   "cell_type": "code",
   "execution_count": 3,
   "id": "34dca2cf-6569-406f-9c8b-f3cfc51dbe55",
   "metadata": {},
   "outputs": [],
   "source": [
    "import os\n",
    "from pathlib import Path\n",
    "from openai import OpenAI"
   ]
  },
  {
   "cell_type": "code",
   "execution_count": null,
   "id": "333102f7-676d-4e47-8c87-519730dc8eef",
   "metadata": {},
   "outputs": [],
   "source": [
    "# OpenAI API Key\n",
    "open_ai_key = 'key'\n",
    "\n",
    "# Instantiate OpenAI Client\n",
    "client = OpenAI(\n",
    "  api_key=open_ai_key,  \n",
    ")"
   ]
  },
  {
   "cell_type": "code",
   "execution_count": null,
   "id": "edb9b8fd-83ea-412f-a4a2-bcd438795b40",
   "metadata": {},
   "outputs": [],
   "source": [
    "def ask_question(client, question):\n",
    "    prompt = question\n",
    "    \n",
    "    completion = client.chat.completions.create(model=\"gpt-4-turbo\", messages=[{\"role\": \"user\", \"content\": prompt}])\n",
    "    return completion.choices[0].message.content"
   ]
  },
  {
   "cell_type": "code",
   "execution_count": 8,
   "id": "680f5e3e-68a3-4e5d-9d48-ce5e4a4c0a85",
   "metadata": {},
   "outputs": [
    {
     "name": "stdout",
     "output_type": "stream",
     "text": [
      "The color of the sky can vary depending on the time of day and weather conditions, but it is typically perceived as blue during clear, sunny days. This blue color results primarily from the scattering of sunlight by the Earth's atmosphere, which is more effective at scattering shorter wavelengths (like blue) than longer wavelengths (such as red). However, during sunrise and sunset, the sky can appear in various shades of red, orange, and pink, and it can be gray or almost white when it’s overcast.\n",
      "None\n"
     ]
    }
   ],
   "source": [
    "text = ask_question(client, \"What color is the sky?\")\n",
    "print(text)"
   ]
  },
  {
   "cell_type": "code",
   "execution_count": null,
   "id": "7074109c",
   "metadata": {},
   "outputs": [],
   "source": []
  }
 ],
 "metadata": {
  "kernelspec": {
   "display_name": "flask_env",
   "language": "python",
   "name": "python3"
  },
  "language_info": {
   "codemirror_mode": {
    "name": "ipython",
    "version": 3
   },
   "file_extension": ".py",
   "mimetype": "text/x-python",
   "name": "python",
   "nbconvert_exporter": "python",
   "pygments_lexer": "ipython3",
   "version": "3.12.4"
  }
 },
 "nbformat": 4,
 "nbformat_minor": 5
}
